{
 "cells": [
  {
   "cell_type": "markdown",
   "metadata": {},
   "source": [
    "# Identifying Potential Carbon Storage Facilities"
   ]
  },
  {
   "cell_type": "markdown",
   "metadata": {},
   "source": [
    "## Import and Procedural Functions"
   ]
  },
  {
   "cell_type": "code",
   "execution_count": 1,
   "metadata": {},
   "outputs": [
    {
     "name": "stderr",
     "output_type": "stream",
     "text": [
      "/Users/jnapolitano/venvs/sphinx-build/lib/python3.9/site-packages/geopandas/_compat.py:111: UserWarning: The Shapely GEOS version (3.10.2-CAPI-1.16.0) is incompatible with the GEOS version PyGEOS was compiled with (3.10.1-CAPI-1.16.0). Conversions between both will be slow.\n",
      "  warnings.warn(\n"
     ]
    }
   ],
   "source": [
    "import pandas as pd\n",
    "import matplotlib.pyplot as plt\n",
    "import geopandas as gpd\n",
    "import folium\n",
    "import contextily as cx\n",
    "import rtree\n",
    "from zlib import crc32\n",
    "import hashlib\n",
    "from shapely.geometry import Point, LineString, Polygon"
   ]
  },
  {
   "cell_type": "code",
   "execution_count": 2,
   "metadata": {},
   "outputs": [],
   "source": [
    "## Importing our DataFrames\n",
    "\n",
    "gisfilepath = \"/Users/jnapolitano/Projects/data/energy/Oil_and_Natural_Gas_Wells.geojson\"\n",
    "\n",
    "\n",
    "fields_df = gpd.read_file(gisfilepath)\n",
    "\n",
    "#fields_df = fields_df.to_crs(epsg=3857)\n",
    "\n"
   ]
  },
  {
   "cell_type": "markdown",
   "metadata": {},
   "source": [
    "## Plot Status Box Plot"
   ]
  },
  {
   "cell_type": "code",
   "execution_count": 3,
   "metadata": {},
   "outputs": [
    {
     "data": {
      "text/plain": [
       "<AxesSubplot:>"
      ]
     },
     "execution_count": 3,
     "metadata": {},
     "output_type": "execute_result"
    },
    {
     "data": {
      "image/png": "[encoded data removed]",
      "text/plain": [
       "<Figure size 432x288 with 1 Axes>"
      ]
     },
     "metadata": {
      "filenames": {
       "image/png": "/Users/jnapolitano/Projects/gas.jnapolitano.io/build/jupyter_execute/parts/non-active-wells_5_1.png"
      },
      "needs_background": "light"
     },
     "output_type": "display_data"
    }
   ],
   "source": [
    "fields_df.STATUS.value_counts().plot(kind='bar')\n",
    "#data['title'].value_counts()[:20].plot(kind='barh')"
   ]
  },
  {
   "cell_type": "markdown",
   "metadata": {},
   "source": [
    "### Encode Dataframe to Categorical Variables"
   ]
  },
  {
   "cell_type": "code",
   "execution_count": 4,
   "metadata": {},
   "outputs": [
    {
     "data": {
      "text/html": [
       "<div>\n",
       "<style scoped>\n",
       "    .dataframe tbody tr th:only-of-type {\n",
       "        vertical-align: middle;\n",
       "    }\n",
       "\n",
       "    .dataframe tbody tr th {\n",
       "        vertical-align: top;\n",
       "    }\n",
       "\n",
       "    .dataframe thead th {\n",
       "        text-align: right;\n",
       "    }\n",
       "</style>\n",
       "<table border=\"1\" class=\"dataframe\">\n",
       "  <thead>\n",
       "    <tr style=\"text-align: right;\">\n",
       "      <th></th>\n",
       "      <th>OBJECTID</th>\n",
       "      <th>ID</th>\n",
       "      <th>NAME</th>\n",
       "      <th>STATE</th>\n",
       "      <th>TYPE</th>\n",
       "      <th>STATUS</th>\n",
       "      <th>COUNTY</th>\n",
       "      <th>COUNTYFIPS</th>\n",
       "      <th>COUNTRY</th>\n",
       "      <th>LATITUDE</th>\n",
       "      <th>...</th>\n",
       "      <th>SURF_LAT</th>\n",
       "      <th>SURF_LONG</th>\n",
       "      <th>BOT_LAT</th>\n",
       "      <th>BOT_LONG</th>\n",
       "      <th>POSREL</th>\n",
       "      <th>FIELD</th>\n",
       "      <th>COMPDATE</th>\n",
       "      <th>TOTDEPTH</th>\n",
       "      <th>geometry</th>\n",
       "      <th>STAUTS_CAT</th>\n",
       "    </tr>\n",
       "  </thead>\n",
       "  <tbody>\n",
       "    <tr>\n",
       "      <th>0</th>\n",
       "      <td>1</td>\n",
       "      <td>W220000001</td>\n",
       "      <td>RRBB NAB PXY RA SU;J L SCALES</td>\n",
       "      <td>LA</td>\n",
       "      <td>OIL &amp; NATURAL GAS WELL</td>\n",
       "      <td>NON-ACTIVE WELL</td>\n",
       "      <td>DE SOTO</td>\n",
       "      <td>22031</td>\n",
       "      <td>USA</td>\n",
       "      <td>32.06496</td>\n",
       "      <td>...</td>\n",
       "      <td>32.06496</td>\n",
       "      <td>-93.55748</td>\n",
       "      <td>-999.0</td>\n",
       "      <td>-999.0</td>\n",
       "      <td>THIRD PARTY</td>\n",
       "      <td>RED RIVER-BULL BAYOU</td>\n",
       "      <td>1951-04-09T00:00:00+00:00</td>\n",
       "      <td>-999.0</td>\n",
       "      <td>POINT (-93.55748 32.06496)</td>\n",
       "      <td>1</td>\n",
       "    </tr>\n",
       "    <tr>\n",
       "      <th>1</th>\n",
       "      <td>2</td>\n",
       "      <td>W220000002</td>\n",
       "      <td>P SUHH;J B BARR 28</td>\n",
       "      <td>LA</td>\n",
       "      <td>OIL &amp; NATURAL GAS WELL</td>\n",
       "      <td>NON-ACTIVE WELL</td>\n",
       "      <td>DE SOTO</td>\n",
       "      <td>22031</td>\n",
       "      <td>USA</td>\n",
       "      <td>32.08437</td>\n",
       "      <td>...</td>\n",
       "      <td>32.08437</td>\n",
       "      <td>-93.90817</td>\n",
       "      <td>-999.0</td>\n",
       "      <td>-999.0</td>\n",
       "      <td>THIRD PARTY</td>\n",
       "      <td>BETHANY LONGSTREET</td>\n",
       "      <td>2004-06-19T00:00:00+00:00</td>\n",
       "      <td>-999.0</td>\n",
       "      <td>POINT (-93.90817 32.08437)</td>\n",
       "      <td>1</td>\n",
       "    </tr>\n",
       "    <tr>\n",
       "      <th>2</th>\n",
       "      <td>3</td>\n",
       "      <td>W220000003</td>\n",
       "      <td>HOSS RB SUA;POLAND</td>\n",
       "      <td>LA</td>\n",
       "      <td>OIL &amp; NATURAL GAS WELL</td>\n",
       "      <td>NON-ACTIVE WELL</td>\n",
       "      <td>LINCOLN</td>\n",
       "      <td>22061</td>\n",
       "      <td>USA</td>\n",
       "      <td>32.65100</td>\n",
       "      <td>...</td>\n",
       "      <td>32.65100</td>\n",
       "      <td>-92.74102</td>\n",
       "      <td>-999.0</td>\n",
       "      <td>-999.0</td>\n",
       "      <td>THIRD PARTY</td>\n",
       "      <td>HICO-KNOWLES</td>\n",
       "      <td>2004-07-28T00:00:00+00:00</td>\n",
       "      <td>-999.0</td>\n",
       "      <td>POINT (-92.74102 32.65100)</td>\n",
       "      <td>1</td>\n",
       "    </tr>\n",
       "    <tr>\n",
       "      <th>3</th>\n",
       "      <td>4</td>\n",
       "      <td>W220000004</td>\n",
       "      <td>LODWICK LUMBER COMPANY</td>\n",
       "      <td>LA</td>\n",
       "      <td>OIL &amp; NATURAL GAS WELL</td>\n",
       "      <td>NON-ACTIVE WELL</td>\n",
       "      <td>BOSSIER</td>\n",
       "      <td>22015</td>\n",
       "      <td>USA</td>\n",
       "      <td>32.60635</td>\n",
       "      <td>...</td>\n",
       "      <td>32.60635</td>\n",
       "      <td>-93.47957</td>\n",
       "      <td>-999.0</td>\n",
       "      <td>-999.0</td>\n",
       "      <td>THIRD PARTY</td>\n",
       "      <td>BELLEVUE</td>\n",
       "      <td>1949-06-09T00:00:00+00:00</td>\n",
       "      <td>-999.0</td>\n",
       "      <td>POINT (-93.47957 32.60635)</td>\n",
       "      <td>1</td>\n",
       "    </tr>\n",
       "    <tr>\n",
       "      <th>4</th>\n",
       "      <td>5</td>\n",
       "      <td>W220000005</td>\n",
       "      <td>SL 1367</td>\n",
       "      <td>LA</td>\n",
       "      <td>OIL &amp; NATURAL GAS WELL</td>\n",
       "      <td>NON-ACTIVE WELL</td>\n",
       "      <td>LAFOURCHE</td>\n",
       "      <td>22057</td>\n",
       "      <td>USA</td>\n",
       "      <td>29.06883</td>\n",
       "      <td>...</td>\n",
       "      <td>29.06883</td>\n",
       "      <td>-90.17218</td>\n",
       "      <td>-999.0</td>\n",
       "      <td>-999.0</td>\n",
       "      <td>THIRD PARTY</td>\n",
       "      <td>BAY MARCHAND BLOCK 2 OFFSHORE</td>\n",
       "      <td>1950-10-05T00:00:00+00:00</td>\n",
       "      <td>-999.0</td>\n",
       "      <td>POINT (-90.17218 29.06883)</td>\n",
       "      <td>1</td>\n",
       "    </tr>\n",
       "  </tbody>\n",
       "</table>\n",
       "<p>5 rows × 35 columns</p>\n",
       "</div>"
      ],
      "text/plain": [
       "   OBJECTID          ID                           NAME STATE  \\\n",
       "0         1  W220000001  RRBB NAB PXY RA SU;J L SCALES    LA   \n",
       "1         2  W220000002             P SUHH;J B BARR 28    LA   \n",
       "2         3  W220000003             HOSS RB SUA;POLAND    LA   \n",
       "3         4  W220000004         LODWICK LUMBER COMPANY    LA   \n",
       "4         5  W220000005                        SL 1367    LA   \n",
       "\n",
       "                     TYPE           STATUS     COUNTY COUNTYFIPS COUNTRY  \\\n",
       "0  OIL & NATURAL GAS WELL  NON-ACTIVE WELL    DE SOTO      22031     USA   \n",
       "1  OIL & NATURAL GAS WELL  NON-ACTIVE WELL    DE SOTO      22031     USA   \n",
       "2  OIL & NATURAL GAS WELL  NON-ACTIVE WELL    LINCOLN      22061     USA   \n",
       "3  OIL & NATURAL GAS WELL  NON-ACTIVE WELL    BOSSIER      22015     USA   \n",
       "4  OIL & NATURAL GAS WELL  NON-ACTIVE WELL  LAFOURCHE      22057     USA   \n",
       "\n",
       "   LATITUDE  ...  SURF_LAT SURF_LONG BOT_LAT BOT_LONG       POSREL  \\\n",
       "0  32.06496  ...  32.06496 -93.55748  -999.0   -999.0  THIRD PARTY   \n",
       "1  32.08437  ...  32.08437 -93.90817  -999.0   -999.0  THIRD PARTY   \n",
       "2  32.65100  ...  32.65100 -92.74102  -999.0   -999.0  THIRD PARTY   \n",
       "3  32.60635  ...  32.60635 -93.47957  -999.0   -999.0  THIRD PARTY   \n",
       "4  29.06883  ...  29.06883 -90.17218  -999.0   -999.0  THIRD PARTY   \n",
       "\n",
       "                           FIELD                   COMPDATE TOTDEPTH  \\\n",
       "0           RED RIVER-BULL BAYOU  1951-04-09T00:00:00+00:00   -999.0   \n",
       "1             BETHANY LONGSTREET  2004-06-19T00:00:00+00:00   -999.0   \n",
       "2                   HICO-KNOWLES  2004-07-28T00:00:00+00:00   -999.0   \n",
       "3                       BELLEVUE  1949-06-09T00:00:00+00:00   -999.0   \n",
       "4  BAY MARCHAND BLOCK 2 OFFSHORE  1950-10-05T00:00:00+00:00   -999.0   \n",
       "\n",
       "                     geometry STAUTS_CAT  \n",
       "0  POINT (-93.55748 32.06496)          1  \n",
       "1  POINT (-93.90817 32.08437)          1  \n",
       "2  POINT (-92.74102 32.65100)          1  \n",
       "3  POINT (-93.47957 32.60635)          1  \n",
       "4  POINT (-90.17218 29.06883)          1  \n",
       "\n",
       "[5 rows x 35 columns]"
      ]
     },
     "execution_count": 4,
     "metadata": {},
     "output_type": "execute_result"
    }
   ],
   "source": [
    "#Casting to Category\n",
    "\n",
    "fields_df[\"STATUS\"] = fields_df[\"STATUS\"].astype('category')\n",
    "\n",
    "#Creating Cat Column \n",
    "fields_df[\"STAUTS_CAT\"] = fields_df[\"STATUS\"].cat.codes\n",
    "fields_df.head()"
   ]
  },
  {
   "cell_type": "markdown",
   "metadata": {},
   "source": [
    "### Sorting Data by Category"
   ]
  },
  {
   "cell_type": "code",
   "execution_count": 5,
   "metadata": {},
   "outputs": [],
   "source": [
    "fields_df = fields_df.sort_values(['STAUTS_CAT'])"
   ]
  },
  {
   "cell_type": "markdown",
   "metadata": {},
   "source": [
    "### Creating Category Table"
   ]
  },
  {
   "cell_type": "code",
   "execution_count": 6,
   "metadata": {},
   "outputs": [
    {
     "data": {
      "text/html": [
       "<style type=\"text/css\">\n",
       "</style>\n",
       "<table id=\"T_0e238\">\n",
       "  <thead>\n",
       "    <tr>\n",
       "      <th class=\"blank level0\" >&nbsp;</th>\n",
       "      <th id=\"T_0e238_level0_col0\" class=\"col_heading level0 col0\" >Category</th>\n",
       "    </tr>\n",
       "  </thead>\n",
       "  <tbody>\n",
       "    <tr>\n",
       "      <th id=\"T_0e238_level0_row0\" class=\"row_heading level0 row0\" >0</th>\n",
       "      <td id=\"T_0e238_row0_col0\" class=\"data row0 col0\" >ACTIVE WELL</td>\n",
       "    </tr>\n",
       "    <tr>\n",
       "      <th id=\"T_0e238_level0_row1\" class=\"row_heading level0 row1\" >1</th>\n",
       "      <td id=\"T_0e238_row1_col0\" class=\"data row1 col0\" >NON-ACTIVE WELL</td>\n",
       "    </tr>\n",
       "    <tr>\n",
       "      <th id=\"T_0e238_level0_row2\" class=\"row_heading level0 row2\" >2</th>\n",
       "      <td id=\"T_0e238_row2_col0\" class=\"data row2 col0\" >PRODUCING WELL</td>\n",
       "    </tr>\n",
       "    <tr>\n",
       "      <th id=\"T_0e238_level0_row3\" class=\"row_heading level0 row3\" >3</th>\n",
       "      <td id=\"T_0e238_row3_col0\" class=\"data row3 col0\" >PRODUCING, NON-ACTIVE WELL</td>\n",
       "    </tr>\n",
       "    <tr>\n",
       "      <th id=\"T_0e238_level0_row4\" class=\"row_heading level0 row4\" >4</th>\n",
       "      <td id=\"T_0e238_row4_col0\" class=\"data row4 col0\" >STORAGE WELL/MAINTENANCE WELL/OBSERVATION WELL</td>\n",
       "    </tr>\n",
       "    <tr>\n",
       "      <th id=\"T_0e238_level0_row5\" class=\"row_heading level0 row5\" >5</th>\n",
       "      <td id=\"T_0e238_row5_col0\" class=\"data row5 col0\" >UNKNOWN WELL</td>\n",
       "    </tr>\n",
       "    <tr>\n",
       "      <th id=\"T_0e238_level0_row6\" class=\"row_heading level0 row6\" >6</th>\n",
       "      <td id=\"T_0e238_row6_col0\" class=\"data row6 col0\" >WELL DEVELOPMENT</td>\n",
       "    </tr>\n",
       "  </tbody>\n",
       "</table>\n"
      ],
      "text/plain": [
       "<pandas.io.formats.style.Styler at 0x128313f40>"
      ]
     },
     "execution_count": 6,
     "metadata": {},
     "output_type": "execute_result"
    }
   ],
   "source": [
    "# Creating a Dictionary of Categories\n",
    "cat_dict =dict(enumerate(fields_df['STATUS'].cat.categories)) \n",
    "\n",
    "# Creating a Dataframe for references\n",
    "df = pd.DataFrame.from_dict(data=cat_dict,columns=['Category'], orient='index')\n",
    "df.style\n",
    "\n",
    "# {0: 'bad', 1: 'good', 2: 'great'}\n",
    "#grp = fields_df.groupby('STAUTS_CAT')['STATUS'].aggregate(lambda x: print(x))"
   ]
  },
  {
   "cell_type": "markdown",
   "metadata": {},
   "source": [
    "### Dropping Categories from the Data Frame"
   ]
  },
  {
   "cell_type": "markdown",
   "metadata": {},
   "source": [
    "#### Active Well"
   ]
  },
  {
   "cell_type": "code",
   "execution_count": 7,
   "metadata": {},
   "outputs": [],
   "source": [
    "fields_df.drop(fields_df[fields_df['STAUTS_CAT'] == 0].index, inplace = True)\n"
   ]
  },
  {
   "cell_type": "markdown",
   "metadata": {},
   "source": [
    "#### Producing Well"
   ]
  },
  {
   "cell_type": "code",
   "execution_count": 8,
   "metadata": {},
   "outputs": [],
   "source": [
    "fields_df.drop(fields_df[fields_df['STAUTS_CAT'] == 2].index, inplace = True)"
   ]
  },
  {
   "cell_type": "markdown",
   "metadata": {},
   "source": [
    "#### PRODUCING, NON_ACTIVE WEll"
   ]
  },
  {
   "cell_type": "code",
   "execution_count": 9,
   "metadata": {},
   "outputs": [],
   "source": [
    "fields_df.drop(fields_df[fields_df['STAUTS_CAT'] == 3].index, inplace = True)\n"
   ]
  },
  {
   "cell_type": "markdown",
   "metadata": {},
   "source": [
    "#### Unknown Well"
   ]
  },
  {
   "cell_type": "code",
   "execution_count": 10,
   "metadata": {},
   "outputs": [],
   "source": [
    "fields_df.drop(fields_df[fields_df['STAUTS_CAT'] == 5].index, inplace = True)\n"
   ]
  },
  {
   "cell_type": "markdown",
   "metadata": {},
   "source": [
    "#### Well Development"
   ]
  },
  {
   "cell_type": "code",
   "execution_count": 11,
   "metadata": {},
   "outputs": [],
   "source": [
    "fields_df.drop(fields_df[fields_df['STAUTS_CAT'] == 6].index, inplace = True)"
   ]
  },
  {
   "cell_type": "markdown",
   "metadata": {},
   "source": [
    "### Writing filtered DF to CSV "
   ]
  },
  {
   "cell_type": "code",
   "execution_count": 12,
   "metadata": {},
   "outputs": [
    {
     "name": "stderr",
     "output_type": "stream",
     "text": [
      "/Users/jnapolitano/venvs/sphinx-build/lib/python3.9/site-packages/geopandas/io/file.py:362: FutureWarning: pandas.Int64Index is deprecated and will be removed from pandas in a future version. Use pandas.Index with the appropriate dtype instead.\n",
      "  pd.Int64Index,\n"
     ]
    }
   ],
   "source": [
    "fields_df.reset_index(inplace=True)\n",
    "fields_df[\"STATUS\"] = fields_df[\"STATUS\"].astype('string')\n",
    "fields_df.to_csv(\"/Users/jnapolitano/Projects/data/energy/non-active-wells.csv\")\n",
    "fields_df.to_file('/Users/jnapolitano/Projects/data/energy/non-active-wells.geojson', driver='GeoJSON')  "
   ]
  }
 ],
 "metadata": {
  "interpreter": {
   "hash": "ba8d33294ae07cd88c7baee17e9c10a6f1ffb873f81490f896cf1d02726ad07e"
  },
  "kernelspec": {
   "display_name": "Python 3.9.10 ('finance')",
   "language": "python",
   "name": "python3"
  },
  "language_info": {
   "codemirror_mode": {
    "name": "ipython",
    "version": 3
   },
   "file_extension": ".py",
   "mimetype": "text/x-python",
   "name": "python",
   "nbconvert_exporter": "python",
   "pygments_lexer": "ipython3",
   "version": "3.9.10"
  }
 },
 "nbformat": 4,
 "nbformat_minor": 2
}